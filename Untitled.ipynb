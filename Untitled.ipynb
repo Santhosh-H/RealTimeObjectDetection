{
 "cells": [
  {
   "cell_type": "code",
   "execution_count": 34,
   "id": "69056df9",
   "metadata": {},
   "outputs": [],
   "source": [
    "import cv2 \n",
    "import os\n",
    "import uuid\n",
    "import time\n"
   ]
  },
  {
   "cell_type": "code",
   "execution_count": 35,
   "id": "83197558",
   "metadata": {},
   "outputs": [],
   "source": [
    "IMAGES_PATH = 'D:/santhosh/Tensorflow/workspace/images/collectedimages'\n",
    "labels = ['please']\n",
    "# 'thanks', 'yes', 'no', 'iloveyou'\n",
    "number_imgs = 15\n"
   ]
  },
  {
   "cell_type": "code",
   "execution_count": 36,
   "id": "14578107",
   "metadata": {},
   "outputs": [
    {
     "name": "stderr",
     "output_type": "stream",
     "text": [
      "A subdirectory or file D:\\santhosh\\Tensorflow\\workspace\\images\\collectedimages\\please already exists.\n"
     ]
    },
    {
     "name": "stdout",
     "output_type": "stream",
     "text": [
      "Collecting images for please\n"
     ]
    }
   ],
   "source": [
    "for label in labels:\n",
    "    !mkdir { 'D:\\santhosh\\Tensorflow\\workspace\\images\\collectedimages\\\\'+label}\n",
    "    cap= cv2.VideoCapture(0)\n",
    "    print('Collecting images for {}'.format(label))\n",
    "    time.sleep(5)\n",
    "for imgnum in range(number_imgs):\n",
    "    ret, frame = cap.read()\n",
    "    imgname = os.path.join(IMAGES_PATH, label, label+ '.'+'{}.jpg'.format(str(uuid.uuid1())))\n",
    "    cv2.imwrite(imgname, frame)\n",
    "    cv2.imshow('frame', frame)\n",
    "    time.sleep(2)\n",
    "    if cv2.waitKey(1) & 0xFF== ord('q'):\n",
    "        break\n",
    "cap.release()\n"
   ]
  },
  {
   "cell_type": "code",
   "execution_count": null,
   "id": "5689203b",
   "metadata": {},
   "outputs": [],
   "source": []
  }
 ],
 "metadata": {
  "kernelspec": {
   "display_name": "Python 3 (ipykernel)",
   "language": "python",
   "name": "python3"
  },
  "language_info": {
   "codemirror_mode": {
    "name": "ipython",
    "version": 3
   },
   "file_extension": ".py",
   "mimetype": "text/x-python",
   "name": "python",
   "nbconvert_exporter": "python",
   "pygments_lexer": "ipython3",
   "version": "3.10.7"
  }
 },
 "nbformat": 4,
 "nbformat_minor": 5
}
